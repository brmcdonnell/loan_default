{
 "cells": [
  {
   "cell_type": "markdown",
   "metadata": {},
   "source": [
    "# in this notebook I'll export the clean csv files one by one \n",
    "\n",
    "\n",
    "lendingclub_2017Q1.csv\n",
    "\n",
    "lendingclub_2017Q2.csv\n",
    "\n",
    "lendingclub_2017Q3.csv\n",
    "\n",
    "lendingclub_2017Q4.csv\n",
    "\n",
    "lendingclub_2018Q1.csv\n",
    "\n",
    "lendingclub_2018Q2.csv\n",
    "\n",
    "lendingclub_2018Q3.csv\n",
    "\n",
    "lendingclub_2018Q4.csv\n",
    "\n",
    "lendingclub_2019Q1.csv\n",
    "\n",
    "lendingclub_2019Q2.csv\n",
    "\n",
    "lendingclub_2019Q3.csv"
   ]
  },
  {
   "cell_type": "code",
   "execution_count": 1,
   "metadata": {},
   "outputs": [],
   "source": [
    "import pandas as pd \n",
    "import numpy as np\n",
    "\n",
    "import datetime"
   ]
  },
  {
   "cell_type": "code",
   "execution_count": 2,
   "metadata": {},
   "outputs": [
    {
     "name": "stderr",
     "output_type": "stream",
     "text": [
      "/Users/alicjaligas/anaconda3/lib/python3.7/site-packages/IPython/core/interactiveshell.py:3057: DtypeWarning: Columns (0) have mixed types. Specify dtype option on import or set low_memory=False.\n",
      "  interactivity=interactivity, compiler=compiler, result=result)\n"
     ]
    }
   ],
   "source": [
    "df = pd.read_csv('data/lendingclub_2017Q4.csv', header=1) #, header=1"
   ]
  },
  {
   "cell_type": "code",
   "execution_count": 4,
   "metadata": {},
   "outputs": [
    {
     "data": {
      "text/plain": [
       "38"
      ]
     },
     "execution_count": 4,
     "metadata": {},
     "output_type": "execute_result"
    }
   ],
   "source": [
    "len(df.select_dtypes('object').columns)"
   ]
  },
  {
   "cell_type": "code",
   "execution_count": 1998,
   "metadata": {},
   "outputs": [
    {
     "data": {
      "text/plain": [
       "(118650, 150)"
      ]
     },
     "execution_count": 1998,
     "metadata": {},
     "output_type": "execute_result"
    }
   ],
   "source": [
    "df.shape"
   ]
  },
  {
   "cell_type": "code",
   "execution_count": 1999,
   "metadata": {},
   "outputs": [
    {
     "data": {
      "text/html": [
       "<div>\n",
       "<style scoped>\n",
       "    .dataframe tbody tr th:only-of-type {\n",
       "        vertical-align: middle;\n",
       "    }\n",
       "\n",
       "    .dataframe tbody tr th {\n",
       "        vertical-align: top;\n",
       "    }\n",
       "\n",
       "    .dataframe thead th {\n",
       "        text-align: right;\n",
       "    }\n",
       "</style>\n",
       "<table border=\"1\" class=\"dataframe\">\n",
       "  <thead>\n",
       "    <tr style=\"text-align: right;\">\n",
       "      <th></th>\n",
       "      <th>id</th>\n",
       "      <th>member_id</th>\n",
       "      <th>loan_amnt</th>\n",
       "      <th>funded_amnt</th>\n",
       "      <th>funded_amnt_inv</th>\n",
       "      <th>term</th>\n",
       "      <th>int_rate</th>\n",
       "      <th>installment</th>\n",
       "      <th>grade</th>\n",
       "      <th>sub_grade</th>\n",
       "      <th>...</th>\n",
       "      <th>orig_projected_additional_accrued_interest</th>\n",
       "      <th>hardship_payoff_balance_amount</th>\n",
       "      <th>hardship_last_payment_amount</th>\n",
       "      <th>debt_settlement_flag</th>\n",
       "      <th>debt_settlement_flag_date</th>\n",
       "      <th>settlement_status</th>\n",
       "      <th>settlement_date</th>\n",
       "      <th>settlement_amount</th>\n",
       "      <th>settlement_percentage</th>\n",
       "      <th>settlement_term</th>\n",
       "    </tr>\n",
       "  </thead>\n",
       "  <tbody>\n",
       "    <tr>\n",
       "      <td>0</td>\n",
       "      <td>126186267</td>\n",
       "      <td>NaN</td>\n",
       "      <td>20000.0</td>\n",
       "      <td>20000.0</td>\n",
       "      <td>20000.0</td>\n",
       "      <td>60 months</td>\n",
       "      <td>28.72%</td>\n",
       "      <td>631.44</td>\n",
       "      <td>F</td>\n",
       "      <td>F1</td>\n",
       "      <td>...</td>\n",
       "      <td>NaN</td>\n",
       "      <td>NaN</td>\n",
       "      <td>NaN</td>\n",
       "      <td>N</td>\n",
       "      <td>NaN</td>\n",
       "      <td>NaN</td>\n",
       "      <td>NaN</td>\n",
       "      <td>NaN</td>\n",
       "      <td>NaN</td>\n",
       "      <td>NaN</td>\n",
       "    </tr>\n",
       "    <tr>\n",
       "      <td>1</td>\n",
       "      <td>126206341</td>\n",
       "      <td>NaN</td>\n",
       "      <td>7800.0</td>\n",
       "      <td>7800.0</td>\n",
       "      <td>7800.0</td>\n",
       "      <td>36 months</td>\n",
       "      <td>10.91%</td>\n",
       "      <td>255.03</td>\n",
       "      <td>B</td>\n",
       "      <td>B4</td>\n",
       "      <td>...</td>\n",
       "      <td>NaN</td>\n",
       "      <td>NaN</td>\n",
       "      <td>NaN</td>\n",
       "      <td>N</td>\n",
       "      <td>NaN</td>\n",
       "      <td>NaN</td>\n",
       "      <td>NaN</td>\n",
       "      <td>NaN</td>\n",
       "      <td>NaN</td>\n",
       "      <td>NaN</td>\n",
       "    </tr>\n",
       "    <tr>\n",
       "      <td>2</td>\n",
       "      <td>126394835</td>\n",
       "      <td>NaN</td>\n",
       "      <td>11000.0</td>\n",
       "      <td>11000.0</td>\n",
       "      <td>11000.0</td>\n",
       "      <td>36 months</td>\n",
       "      <td>11.99%</td>\n",
       "      <td>365.31</td>\n",
       "      <td>B</td>\n",
       "      <td>B5</td>\n",
       "      <td>...</td>\n",
       "      <td>NaN</td>\n",
       "      <td>NaN</td>\n",
       "      <td>NaN</td>\n",
       "      <td>N</td>\n",
       "      <td>NaN</td>\n",
       "      <td>NaN</td>\n",
       "      <td>NaN</td>\n",
       "      <td>NaN</td>\n",
       "      <td>NaN</td>\n",
       "      <td>NaN</td>\n",
       "    </tr>\n",
       "    <tr>\n",
       "      <td>3</td>\n",
       "      <td>126408725</td>\n",
       "      <td>NaN</td>\n",
       "      <td>10000.0</td>\n",
       "      <td>10000.0</td>\n",
       "      <td>10000.0</td>\n",
       "      <td>60 months</td>\n",
       "      <td>16.02%</td>\n",
       "      <td>243.29</td>\n",
       "      <td>C</td>\n",
       "      <td>C5</td>\n",
       "      <td>...</td>\n",
       "      <td>NaN</td>\n",
       "      <td>NaN</td>\n",
       "      <td>NaN</td>\n",
       "      <td>N</td>\n",
       "      <td>NaN</td>\n",
       "      <td>NaN</td>\n",
       "      <td>NaN</td>\n",
       "      <td>NaN</td>\n",
       "      <td>NaN</td>\n",
       "      <td>NaN</td>\n",
       "    </tr>\n",
       "    <tr>\n",
       "      <td>4</td>\n",
       "      <td>126414116</td>\n",
       "      <td>NaN</td>\n",
       "      <td>20000.0</td>\n",
       "      <td>20000.0</td>\n",
       "      <td>20000.0</td>\n",
       "      <td>36 months</td>\n",
       "      <td>6.08%</td>\n",
       "      <td>609.17</td>\n",
       "      <td>A</td>\n",
       "      <td>A2</td>\n",
       "      <td>...</td>\n",
       "      <td>NaN</td>\n",
       "      <td>NaN</td>\n",
       "      <td>NaN</td>\n",
       "      <td>N</td>\n",
       "      <td>NaN</td>\n",
       "      <td>NaN</td>\n",
       "      <td>NaN</td>\n",
       "      <td>NaN</td>\n",
       "      <td>NaN</td>\n",
       "      <td>NaN</td>\n",
       "    </tr>\n",
       "  </tbody>\n",
       "</table>\n",
       "<p>5 rows × 150 columns</p>\n",
       "</div>"
      ],
      "text/plain": [
       "          id  member_id  loan_amnt  funded_amnt  funded_amnt_inv        term  \\\n",
       "0  126186267        NaN    20000.0      20000.0          20000.0   60 months   \n",
       "1  126206341        NaN     7800.0       7800.0           7800.0   36 months   \n",
       "2  126394835        NaN    11000.0      11000.0          11000.0   36 months   \n",
       "3  126408725        NaN    10000.0      10000.0          10000.0   60 months   \n",
       "4  126414116        NaN    20000.0      20000.0          20000.0   36 months   \n",
       "\n",
       "  int_rate  installment grade sub_grade  ...  \\\n",
       "0   28.72%       631.44     F        F1  ...   \n",
       "1   10.91%       255.03     B        B4  ...   \n",
       "2   11.99%       365.31     B        B5  ...   \n",
       "3   16.02%       243.29     C        C5  ...   \n",
       "4    6.08%       609.17     A        A2  ...   \n",
       "\n",
       "  orig_projected_additional_accrued_interest hardship_payoff_balance_amount  \\\n",
       "0                                        NaN                            NaN   \n",
       "1                                        NaN                            NaN   \n",
       "2                                        NaN                            NaN   \n",
       "3                                        NaN                            NaN   \n",
       "4                                        NaN                            NaN   \n",
       "\n",
       "  hardship_last_payment_amount  debt_settlement_flag  \\\n",
       "0                          NaN                     N   \n",
       "1                          NaN                     N   \n",
       "2                          NaN                     N   \n",
       "3                          NaN                     N   \n",
       "4                          NaN                     N   \n",
       "\n",
       "  debt_settlement_flag_date settlement_status settlement_date  \\\n",
       "0                       NaN               NaN             NaN   \n",
       "1                       NaN               NaN             NaN   \n",
       "2                       NaN               NaN             NaN   \n",
       "3                       NaN               NaN             NaN   \n",
       "4                       NaN               NaN             NaN   \n",
       "\n",
       "  settlement_amount settlement_percentage  settlement_term  \n",
       "0               NaN                   NaN              NaN  \n",
       "1               NaN                   NaN              NaN  \n",
       "2               NaN                   NaN              NaN  \n",
       "3               NaN                   NaN              NaN  \n",
       "4               NaN                   NaN              NaN  \n",
       "\n",
       "[5 rows x 150 columns]"
      ]
     },
     "execution_count": 1999,
     "metadata": {},
     "output_type": "execute_result"
    }
   ],
   "source": [
    "df.head()"
   ]
  },
  {
   "cell_type": "code",
   "execution_count": 2000,
   "metadata": {},
   "outputs": [
    {
     "data": {
      "text/plain": [
       "id                            0\n",
       "member_id                118650\n",
       "loan_amnt                     2\n",
       "funded_amnt                   2\n",
       "funded_amnt_inv               2\n",
       "                          ...  \n",
       "settlement_status        116896\n",
       "settlement_date          116896\n",
       "settlement_amount        116896\n",
       "settlement_percentage    116896\n",
       "settlement_term          116896\n",
       "Length: 150, dtype: int64"
      ]
     },
     "execution_count": 2000,
     "metadata": {},
     "output_type": "execute_result"
    }
   ],
   "source": [
    "df.isnull().sum()"
   ]
  },
  {
   "cell_type": "code",
   "execution_count": null,
   "metadata": {},
   "outputs": [],
   "source": []
  },
  {
   "cell_type": "markdown",
   "metadata": {},
   "source": [
    "# DROP COLUMNS \n"
   ]
  },
  {
   "cell_type": "code",
   "execution_count": 2001,
   "metadata": {},
   "outputs": [
    {
     "data": {
      "text/html": [
       "<div>\n",
       "<style scoped>\n",
       "    .dataframe tbody tr th:only-of-type {\n",
       "        vertical-align: middle;\n",
       "    }\n",
       "\n",
       "    .dataframe tbody tr th {\n",
       "        vertical-align: top;\n",
       "    }\n",
       "\n",
       "    .dataframe thead th {\n",
       "        text-align: right;\n",
       "    }\n",
       "</style>\n",
       "<table border=\"1\" class=\"dataframe\">\n",
       "  <thead>\n",
       "    <tr style=\"text-align: right;\">\n",
       "      <th></th>\n",
       "      <th>count</th>\n",
       "    </tr>\n",
       "  </thead>\n",
       "  <tbody>\n",
       "    <tr>\n",
       "      <td>mo_sin_old_rev_tl_op</td>\n",
       "      <td>2</td>\n",
       "    </tr>\n",
       "    <tr>\n",
       "      <td>delinq_amnt</td>\n",
       "      <td>2</td>\n",
       "    </tr>\n",
       "    <tr>\n",
       "      <td>chargeoff_within_12_mths</td>\n",
       "      <td>2</td>\n",
       "    </tr>\n",
       "    <tr>\n",
       "      <td>acc_open_past_24mths</td>\n",
       "      <td>2</td>\n",
       "    </tr>\n",
       "    <tr>\n",
       "      <td>inq_last_12m</td>\n",
       "      <td>2</td>\n",
       "    </tr>\n",
       "    <tr>\n",
       "      <td>...</td>\n",
       "      <td>...</td>\n",
       "    </tr>\n",
       "    <tr>\n",
       "      <td>hardship_loan_status</td>\n",
       "      <td>117927</td>\n",
       "    </tr>\n",
       "    <tr>\n",
       "      <td>hardship_start_date</td>\n",
       "      <td>117927</td>\n",
       "    </tr>\n",
       "    <tr>\n",
       "      <td>orig_projected_additional_accrued_interest</td>\n",
       "      <td>118094</td>\n",
       "    </tr>\n",
       "    <tr>\n",
       "      <td>member_id</td>\n",
       "      <td>118650</td>\n",
       "    </tr>\n",
       "    <tr>\n",
       "      <td>desc</td>\n",
       "      <td>118650</td>\n",
       "    </tr>\n",
       "  </tbody>\n",
       "</table>\n",
       "<p>149 rows × 1 columns</p>\n",
       "</div>"
      ],
      "text/plain": [
       "                                             count\n",
       "mo_sin_old_rev_tl_op                             2\n",
       "delinq_amnt                                      2\n",
       "chargeoff_within_12_mths                         2\n",
       "acc_open_past_24mths                             2\n",
       "inq_last_12m                                     2\n",
       "...                                            ...\n",
       "hardship_loan_status                        117927\n",
       "hardship_start_date                         117927\n",
       "orig_projected_additional_accrued_interest  118094\n",
       "member_id                                   118650\n",
       "desc                                        118650\n",
       "\n",
       "[149 rows x 1 columns]"
      ]
     },
     "execution_count": 2001,
     "metadata": {},
     "output_type": "execute_result"
    }
   ],
   "source": [
    "null_count = pd.DataFrame(df.isnull().sum()).rename(columns={0:'count'}).sort_values('count')\n",
    "null_count.loc[null_count['count']>0]"
   ]
  },
  {
   "cell_type": "code",
   "execution_count": 2002,
   "metadata": {},
   "outputs": [],
   "source": [
    "#drop settlement cols, except flag and term\n",
    "#drop cols related to settlement, except debt set flag - binarize\n",
    "\n",
    "# Flags whether or not the borrower, who has charged-off, is working with a debt-settlement company.\n",
    "# A charge-off is a debt, for example on a credit card, \n",
    "# that is deemed unlikely to be collected by the creditor because \n",
    "# the borrower has become substantially delinquent after a period of time.\n",
    "\n",
    "sr_null = pd.Series(null_count.index)\n",
    "\n",
    "col_ls = list(sr_null.loc[sr_null.str.contains(pat='sett')])\n",
    "\n",
    "col_ls = col_ls[1:]\n",
    "col_ls.remove('settlement_term')\n",
    "df.drop(columns=col_ls, inplace=True)"
   ]
  },
  {
   "cell_type": "code",
   "execution_count": null,
   "metadata": {},
   "outputs": [],
   "source": []
  },
  {
   "cell_type": "code",
   "execution_count": 2003,
   "metadata": {},
   "outputs": [],
   "source": [
    "#drop joint cols except for dti \n",
    "\n",
    "col_ls = list(sr_null.loc[sr_null.str.contains(pat='joint')])\n",
    "col_ls.remove('dti_joint')\n",
    "df.drop(columns=col_ls, inplace=True)"
   ]
  },
  {
   "cell_type": "code",
   "execution_count": 2004,
   "metadata": {},
   "outputs": [
    {
     "data": {
      "text/plain": [
       "(118650, 142)"
      ]
     },
     "execution_count": 2004,
     "metadata": {},
     "output_type": "execute_result"
    }
   ],
   "source": [
    "df.shape"
   ]
  },
  {
   "cell_type": "code",
   "execution_count": 2005,
   "metadata": {},
   "outputs": [],
   "source": [
    "#drop cols related to sec applicant other than fico range\n",
    "\n",
    "col_ls = list(sr_null.loc[sr_null.str.contains(pat='sec')])\n",
    "\n",
    "df[col_ls].isnull().sum()\n",
    "\n",
    "col_ls.remove('sec_app_fico_range_high')\n",
    "col_ls.remove('sec_app_fico_range_low')\n",
    "\n",
    "df.drop(columns=col_ls, inplace=True)"
   ]
  },
  {
   "cell_type": "code",
   "execution_count": 2006,
   "metadata": {},
   "outputs": [
    {
     "data": {
      "text/plain": [
       "(118650, 132)"
      ]
     },
     "execution_count": 2006,
     "metadata": {},
     "output_type": "execute_result"
    }
   ],
   "source": [
    "df.shape"
   ]
  },
  {
   "cell_type": "code",
   "execution_count": 2007,
   "metadata": {},
   "outputs": [],
   "source": [
    "#drop harship cols except flag\n",
    "\n",
    "col_ls = list(sr_null.loc[sr_null.str.contains(pat='hard')])\n",
    "col_ls = col_ls[1:]\n",
    "df.drop(columns=col_ls, inplace=True)"
   ]
  },
  {
   "cell_type": "code",
   "execution_count": null,
   "metadata": {},
   "outputs": [],
   "source": []
  },
  {
   "cell_type": "code",
   "execution_count": 2008,
   "metadata": {},
   "outputs": [],
   "source": [
    "#drop deferral term \n",
    "\n",
    "col_ls = list(sr_null.loc[sr_null.str.contains(pat='def')])\n",
    "df.drop(columns=col_ls, inplace=True)"
   ]
  },
  {
   "cell_type": "code",
   "execution_count": 2009,
   "metadata": {},
   "outputs": [],
   "source": [
    "#drop id cols and url\n",
    "\n",
    "col_ls = list(sr_null.loc[sr_null.str.contains(pat='id')])\n",
    "col_ls.append('url')\n",
    "df.drop(columns=col_ls, inplace=True)"
   ]
  },
  {
   "cell_type": "code",
   "execution_count": 2010,
   "metadata": {},
   "outputs": [],
   "source": [
    "#drop outstanding principal cols \n",
    "\n",
    "col_ls = list(sr_null.loc[sr_null.str.contains(pat='out')])\n",
    "df.drop(columns=col_ls, inplace=True)"
   ]
  },
  {
   "cell_type": "code",
   "execution_count": 2011,
   "metadata": {},
   "outputs": [],
   "source": [
    "#drop total cols - too complicated \n",
    "\n",
    "col_ls = list(sr_null.loc[sr_null.str.contains(pat='tot')])\n",
    "df.drop(columns=col_ls, inplace=True)"
   ]
  },
  {
   "cell_type": "code",
   "execution_count": null,
   "metadata": {},
   "outputs": [],
   "source": []
  },
  {
   "cell_type": "code",
   "execution_count": 2012,
   "metadata": {},
   "outputs": [],
   "source": [
    "#keep funded amount drop loan amount\n",
    "#drop other cols \n",
    "\n",
    "#initial_list_status - withdrawn or funded, but only inital so drop\n",
    "\n",
    "\n",
    "col_ls = ['addr_state', 'collections_12_mths_ex_med', 'collection_recovery_fee', 'desc',\n",
    "          'earliest_cr_line', 'emp_title', 'funded_amnt_inv', 'initial_list_status', 'last_fico_range_low', \n",
    "          'last_fico_range_high', 'issue_d', 'last_credit_pull_d', \n",
    "          'last_pymnt_d', 'loan_amnt', 'next_pymnt_d', 'orig_projected_additional_accrued_interest',\n",
    "          'payment_plan_start_date', 'policy_code', 'purpose', 'sub_grade', 'tax_liens', 'zip_code'] \n",
    "\n",
    "df.drop(columns=col_ls, inplace=True)"
   ]
  },
  {
   "cell_type": "code",
   "execution_count": 5,
   "metadata": {},
   "outputs": [
    {
     "data": {
      "text/plain": [
       "22"
      ]
     },
     "execution_count": 5,
     "metadata": {},
     "output_type": "execute_result"
    }
   ],
   "source": [
    "len(['addr_state', 'collections_12_mths_ex_med', 'collection_recovery_fee', 'desc',\n",
    "          'earliest_cr_line', 'emp_title', 'funded_amnt_inv', 'initial_list_status', 'last_fico_range_low', \n",
    "          'last_fico_range_high', 'issue_d', 'last_credit_pull_d', \n",
    "          'last_pymnt_d', 'loan_amnt', 'next_pymnt_d', 'orig_projected_additional_accrued_interest',\n",
    "          'payment_plan_start_date', 'policy_code', 'purpose', 'sub_grade', 'tax_liens', 'zip_code'])"
   ]
  },
  {
   "cell_type": "code",
   "execution_count": null,
   "metadata": {},
   "outputs": [],
   "source": []
  },
  {
   "cell_type": "code",
   "execution_count": 2013,
   "metadata": {},
   "outputs": [
    {
     "data": {
      "text/plain": [
       "(118650, 78)"
      ]
     },
     "execution_count": 2013,
     "metadata": {},
     "output_type": "execute_result"
    }
   ],
   "source": [
    "df.shape"
   ]
  },
  {
   "cell_type": "code",
   "execution_count": null,
   "metadata": {},
   "outputs": [],
   "source": []
  },
  {
   "cell_type": "code",
   "execution_count": 2014,
   "metadata": {},
   "outputs": [
    {
     "data": {
      "text/html": [
       "<div>\n",
       "<style scoped>\n",
       "    .dataframe tbody tr th:only-of-type {\n",
       "        vertical-align: middle;\n",
       "    }\n",
       "\n",
       "    .dataframe tbody tr th {\n",
       "        vertical-align: top;\n",
       "    }\n",
       "\n",
       "    .dataframe thead th {\n",
       "        text-align: right;\n",
       "    }\n",
       "</style>\n",
       "<table border=\"1\" class=\"dataframe\">\n",
       "  <thead>\n",
       "    <tr style=\"text-align: right;\">\n",
       "      <th></th>\n",
       "      <th>count</th>\n",
       "    </tr>\n",
       "  </thead>\n",
       "  <tbody>\n",
       "    <tr>\n",
       "      <td>funded_amnt</td>\n",
       "      <td>2</td>\n",
       "    </tr>\n",
       "    <tr>\n",
       "      <td>open_acc_6m</td>\n",
       "      <td>2</td>\n",
       "    </tr>\n",
       "    <tr>\n",
       "      <td>open_act_il</td>\n",
       "      <td>2</td>\n",
       "    </tr>\n",
       "    <tr>\n",
       "      <td>open_il_12m</td>\n",
       "      <td>2</td>\n",
       "    </tr>\n",
       "    <tr>\n",
       "      <td>open_il_24m</td>\n",
       "      <td>2</td>\n",
       "    </tr>\n",
       "    <tr>\n",
       "      <td>...</td>\n",
       "      <td>...</td>\n",
       "    </tr>\n",
       "    <tr>\n",
       "      <td>mths_since_last_record</td>\n",
       "      <td>100721</td>\n",
       "    </tr>\n",
       "    <tr>\n",
       "      <td>dti_joint</td>\n",
       "      <td>101439</td>\n",
       "    </tr>\n",
       "    <tr>\n",
       "      <td>sec_app_fico_range_low</td>\n",
       "      <td>101439</td>\n",
       "    </tr>\n",
       "    <tr>\n",
       "      <td>sec_app_fico_range_high</td>\n",
       "      <td>101439</td>\n",
       "    </tr>\n",
       "    <tr>\n",
       "      <td>settlement_term</td>\n",
       "      <td>116896</td>\n",
       "    </tr>\n",
       "  </tbody>\n",
       "</table>\n",
       "<p>78 rows × 1 columns</p>\n",
       "</div>"
      ],
      "text/plain": [
       "                          count\n",
       "funded_amnt                   2\n",
       "open_acc_6m                   2\n",
       "open_act_il                   2\n",
       "open_il_12m                   2\n",
       "open_il_24m                   2\n",
       "...                         ...\n",
       "mths_since_last_record   100721\n",
       "dti_joint                101439\n",
       "sec_app_fico_range_low   101439\n",
       "sec_app_fico_range_high  101439\n",
       "settlement_term          116896\n",
       "\n",
       "[78 rows x 1 columns]"
      ]
     },
     "execution_count": 2014,
     "metadata": {},
     "output_type": "execute_result"
    }
   ],
   "source": [
    "null_count = pd.DataFrame(df.isnull().sum()).rename(columns={0:'count'}).sort_values('count')\n",
    "null_count.loc[null_count['count']>0]"
   ]
  },
  {
   "cell_type": "code",
   "execution_count": null,
   "metadata": {},
   "outputs": [],
   "source": []
  },
  {
   "cell_type": "markdown",
   "metadata": {},
   "source": [
    "imput informat object w None, all num w 0 -- drop col that don't provide info \n",
    "\n",
    "drop desc -- but look at this col again, with compiled data, might be able to do some NLP \n",
    "\n",
    "drop any settlement & hardship cols -- title gives this info -- look up hardship debt \n",
    "\n",
    "drop  'url',  'pymnt_plan', 'hardship_flag', 'verification_status_joint', \n",
    "'initial_list_status', 'purpose', 'emp_title', 'loan_amnt', 'funded_amnt_inv', 'sub_grade'\n",
    "\n",
    "take avg fico score \n",
    "\n",
    "binarize debt_settlement_flag', 'hardship_flag'\n",
    "\n",
    "acc_now_delinq\n",
    "\n",
    "df.pymnt_plan.value_counts() #binarize \n",
    "\n",
    "df.recoveries.value_counts()\n",
    "#keep\n",
    "\n",
    "keep settlement term \n",
    "\n",
    "drop deferral term\n",
    "\n",
    "#BINARIZE settlement_term !!!!!"
   ]
  },
  {
   "cell_type": "markdown",
   "metadata": {},
   "source": [
    "# Null Values"
   ]
  },
  {
   "cell_type": "code",
   "execution_count": 2015,
   "metadata": {},
   "outputs": [],
   "source": [
    "num_cols = df.select_dtypes(['int', 'float']).columns\n",
    "\n",
    "null_dict = {k: 0 for k in num_cols}\n",
    "df.fillna(value=null_dict, inplace=True)"
   ]
  },
  {
   "cell_type": "code",
   "execution_count": 2016,
   "metadata": {},
   "outputs": [],
   "source": [
    "# ob_cols = df.select_dtypes(['object']).columns\n",
    "\n",
    "# null_dict = {k:  for k in ob_cols}\n",
    "# df.fillna(value=ob_dict, inplace=True)"
   ]
  },
  {
   "cell_type": "code",
   "execution_count": null,
   "metadata": {},
   "outputs": [],
   "source": []
  },
  {
   "cell_type": "markdown",
   "metadata": {},
   "source": [
    "# Object Cols"
   ]
  },
  {
   "cell_type": "code",
   "execution_count": 2017,
   "metadata": {},
   "outputs": [
    {
     "data": {
      "text/plain": [
       "Index(['term', 'int_rate', 'grade', 'emp_length', 'home_ownership',\n",
       "       'verification_status', 'loan_status', 'pymnt_plan', 'title',\n",
       "       'revol_util', 'application_type', 'hardship_flag',\n",
       "       'debt_settlement_flag'],\n",
       "      dtype='object')"
      ]
     },
     "execution_count": 2017,
     "metadata": {},
     "output_type": "execute_result"
    }
   ],
   "source": [
    "df.select_dtypes('object').columns"
   ]
  },
  {
   "cell_type": "code",
   "execution_count": 2018,
   "metadata": {},
   "outputs": [
    {
     "data": {
      "text/plain": [
       " 36 months    82677\n",
       " 60 months    35971\n",
       "Name: term, dtype: int64"
      ]
     },
     "execution_count": 2018,
     "metadata": {},
     "output_type": "execute_result"
    }
   ],
   "source": [
    "df['term'].value_counts()\n"
   ]
  },
  {
   "cell_type": "code",
   "execution_count": 2019,
   "metadata": {},
   "outputs": [
    {
     "data": {
      "text/plain": [
       "0          28.72%\n",
       "1          10.91%\n",
       "2          11.99%\n",
       "3          16.02%\n",
       "4           6.08%\n",
       "           ...   \n",
       "118645     11.99%\n",
       "118646     21.45%\n",
       "118647     21.45%\n",
       "118648        NaN\n",
       "118649        NaN\n",
       "Name: int_rate, Length: 118650, dtype: object"
      ]
     },
     "execution_count": 2019,
     "metadata": {},
     "output_type": "execute_result"
    }
   ],
   "source": [
    "df['int_rate']"
   ]
  },
  {
   "cell_type": "code",
   "execution_count": 2020,
   "metadata": {},
   "outputs": [],
   "source": [
    "#converted int_rate col to float \n",
    "\n",
    "df['int_rate'] = df['int_rate'].str.replace('%', '').astype(float)"
   ]
  },
  {
   "cell_type": "code",
   "execution_count": 2021,
   "metadata": {},
   "outputs": [],
   "source": [
    "#change revol_util to floats from percentages\n",
    "\n",
    "df['revol_util'] = df['revol_util'].str.replace('%', '').astype(float)"
   ]
  },
  {
   "cell_type": "code",
   "execution_count": 2022,
   "metadata": {},
   "outputs": [
    {
     "data": {
      "text/html": [
       "<div>\n",
       "<style scoped>\n",
       "    .dataframe tbody tr th:only-of-type {\n",
       "        vertical-align: middle;\n",
       "    }\n",
       "\n",
       "    .dataframe tbody tr th {\n",
       "        vertical-align: top;\n",
       "    }\n",
       "\n",
       "    .dataframe thead th {\n",
       "        text-align: right;\n",
       "    }\n",
       "</style>\n",
       "<table border=\"1\" class=\"dataframe\">\n",
       "  <thead>\n",
       "    <tr style=\"text-align: right;\">\n",
       "      <th></th>\n",
       "      <th>count</th>\n",
       "    </tr>\n",
       "  </thead>\n",
       "  <tbody>\n",
       "    <tr>\n",
       "      <td>int_rate</td>\n",
       "      <td>2</td>\n",
       "    </tr>\n",
       "    <tr>\n",
       "      <td>pymnt_plan</td>\n",
       "      <td>2</td>\n",
       "    </tr>\n",
       "    <tr>\n",
       "      <td>hardship_flag</td>\n",
       "      <td>2</td>\n",
       "    </tr>\n",
       "    <tr>\n",
       "      <td>term</td>\n",
       "      <td>2</td>\n",
       "    </tr>\n",
       "    <tr>\n",
       "      <td>grade</td>\n",
       "      <td>2</td>\n",
       "    </tr>\n",
       "    <tr>\n",
       "      <td>debt_settlement_flag</td>\n",
       "      <td>2</td>\n",
       "    </tr>\n",
       "    <tr>\n",
       "      <td>home_ownership</td>\n",
       "      <td>2</td>\n",
       "    </tr>\n",
       "    <tr>\n",
       "      <td>verification_status</td>\n",
       "      <td>2</td>\n",
       "    </tr>\n",
       "    <tr>\n",
       "      <td>loan_status</td>\n",
       "      <td>2</td>\n",
       "    </tr>\n",
       "    <tr>\n",
       "      <td>title</td>\n",
       "      <td>2</td>\n",
       "    </tr>\n",
       "    <tr>\n",
       "      <td>application_type</td>\n",
       "      <td>2</td>\n",
       "    </tr>\n",
       "    <tr>\n",
       "      <td>revol_util</td>\n",
       "      <td>193</td>\n",
       "    </tr>\n",
       "    <tr>\n",
       "      <td>emp_length</td>\n",
       "      <td>9724</td>\n",
       "    </tr>\n",
       "  </tbody>\n",
       "</table>\n",
       "</div>"
      ],
      "text/plain": [
       "                      count\n",
       "int_rate                  2\n",
       "pymnt_plan                2\n",
       "hardship_flag             2\n",
       "term                      2\n",
       "grade                     2\n",
       "debt_settlement_flag      2\n",
       "home_ownership            2\n",
       "verification_status       2\n",
       "loan_status               2\n",
       "title                     2\n",
       "application_type          2\n",
       "revol_util              193\n",
       "emp_length             9724"
      ]
     },
     "execution_count": 2022,
     "metadata": {},
     "output_type": "execute_result"
    }
   ],
   "source": [
    "null_count = pd.DataFrame(df.isnull().sum()).rename(columns={0:'count'}).sort_values('count')\n",
    "null_count.loc[null_count['count']>0]"
   ]
  },
  {
   "cell_type": "code",
   "execution_count": 2023,
   "metadata": {},
   "outputs": [],
   "source": [
    "#change earliest_cr_lin to datetime\n",
    "#all joint & sec cols refer to joint loans\n",
    "#binarize debt_settlement_flag, application_type\n",
    "#binarize verification status\n",
    "#dummy grade, subgrade, emp_length, home ownership, loan status, purpose"
   ]
  },
  {
   "cell_type": "code",
   "execution_count": 2024,
   "metadata": {},
   "outputs": [],
   "source": [
    "df.debt_settlement_flag = df.debt_settlement_flag.map({'N':0, 'Y':1})"
   ]
  },
  {
   "cell_type": "code",
   "execution_count": 2025,
   "metadata": {},
   "outputs": [
    {
     "data": {
      "text/plain": [
       "Individual    101437\n",
       "Joint App      17211\n",
       "Name: application_type, dtype: int64"
      ]
     },
     "execution_count": 2025,
     "metadata": {},
     "output_type": "execute_result"
    }
   ],
   "source": [
    "df.application_type.value_counts()"
   ]
  },
  {
   "cell_type": "code",
   "execution_count": 2026,
   "metadata": {},
   "outputs": [],
   "source": [
    "df['joint_app'] = df.application_type.map({'Individual': 0, 'Joint App': 1})\n",
    "df.drop(columns=['application_type'], inplace=True)"
   ]
  },
  {
   "cell_type": "code",
   "execution_count": null,
   "metadata": {},
   "outputs": [],
   "source": []
  },
  {
   "cell_type": "code",
   "execution_count": 2027,
   "metadata": {},
   "outputs": [
    {
     "data": {
      "text/plain": [
       "Not Verified       47745\n",
       "Source Verified    42757\n",
       "Verified           28146\n",
       "Name: verification_status, dtype: int64"
      ]
     },
     "execution_count": 2027,
     "metadata": {},
     "output_type": "execute_result"
    }
   ],
   "source": [
    "#binarize verification status\n",
    "#dummy grade, subgrade, emp_length, home ownership, loan status, purpose\n",
    "\n",
    "df['verification_status'].value_counts()"
   ]
  },
  {
   "cell_type": "code",
   "execution_count": 2028,
   "metadata": {},
   "outputs": [],
   "source": [
    "df['income_verified'] = df['verification_status'].map(lambda x: 0 if x == \"Not Verified\" else 1)\n",
    "df.drop(columns=['verification_status'], inplace=True)"
   ]
  },
  {
   "cell_type": "code",
   "execution_count": null,
   "metadata": {},
   "outputs": [],
   "source": []
  },
  {
   "cell_type": "code",
   "execution_count": 2029,
   "metadata": {},
   "outputs": [],
   "source": [
    "#df.drop(columns=['purpose'], inplace=True)"
   ]
  },
  {
   "cell_type": "code",
   "execution_count": 2030,
   "metadata": {},
   "outputs": [
    {
     "data": {
      "text/plain": [
       " 36 months    82677\n",
       " 60 months    35971\n",
       "Name: term, dtype: int64"
      ]
     },
     "execution_count": 2030,
     "metadata": {},
     "output_type": "execute_result"
    }
   ],
   "source": [
    "df.term.value_counts()"
   ]
  },
  {
   "cell_type": "code",
   "execution_count": 2031,
   "metadata": {},
   "outputs": [],
   "source": [
    "df['term_6_yr'] = df.term.map({' 36 months': 0, ' 60 months': 1})\n",
    "df.drop(columns=['term'], inplace=True)"
   ]
  },
  {
   "cell_type": "code",
   "execution_count": 2032,
   "metadata": {},
   "outputs": [
    {
     "data": {
      "text/html": [
       "<div>\n",
       "<style scoped>\n",
       "    .dataframe tbody tr th:only-of-type {\n",
       "        vertical-align: middle;\n",
       "    }\n",
       "\n",
       "    .dataframe tbody tr th {\n",
       "        vertical-align: top;\n",
       "    }\n",
       "\n",
       "    .dataframe thead th {\n",
       "        text-align: right;\n",
       "    }\n",
       "</style>\n",
       "<table border=\"1\" class=\"dataframe\">\n",
       "  <thead>\n",
       "    <tr style=\"text-align: right;\">\n",
       "      <th></th>\n",
       "      <th>count</th>\n",
       "    </tr>\n",
       "  </thead>\n",
       "  <tbody>\n",
       "    <tr>\n",
       "      <td>hardship_flag</td>\n",
       "      <td>2</td>\n",
       "    </tr>\n",
       "    <tr>\n",
       "      <td>joint_app</td>\n",
       "      <td>2</td>\n",
       "    </tr>\n",
       "    <tr>\n",
       "      <td>int_rate</td>\n",
       "      <td>2</td>\n",
       "    </tr>\n",
       "    <tr>\n",
       "      <td>debt_settlement_flag</td>\n",
       "      <td>2</td>\n",
       "    </tr>\n",
       "    <tr>\n",
       "      <td>pymnt_plan</td>\n",
       "      <td>2</td>\n",
       "    </tr>\n",
       "    <tr>\n",
       "      <td>term_6_yr</td>\n",
       "      <td>2</td>\n",
       "    </tr>\n",
       "    <tr>\n",
       "      <td>home_ownership</td>\n",
       "      <td>2</td>\n",
       "    </tr>\n",
       "    <tr>\n",
       "      <td>loan_status</td>\n",
       "      <td>2</td>\n",
       "    </tr>\n",
       "    <tr>\n",
       "      <td>title</td>\n",
       "      <td>2</td>\n",
       "    </tr>\n",
       "    <tr>\n",
       "      <td>grade</td>\n",
       "      <td>2</td>\n",
       "    </tr>\n",
       "    <tr>\n",
       "      <td>revol_util</td>\n",
       "      <td>193</td>\n",
       "    </tr>\n",
       "    <tr>\n",
       "      <td>emp_length</td>\n",
       "      <td>9724</td>\n",
       "    </tr>\n",
       "  </tbody>\n",
       "</table>\n",
       "</div>"
      ],
      "text/plain": [
       "                      count\n",
       "hardship_flag             2\n",
       "joint_app                 2\n",
       "int_rate                  2\n",
       "debt_settlement_flag      2\n",
       "pymnt_plan                2\n",
       "term_6_yr                 2\n",
       "home_ownership            2\n",
       "loan_status               2\n",
       "title                     2\n",
       "grade                     2\n",
       "revol_util              193\n",
       "emp_length             9724"
      ]
     },
     "execution_count": 2032,
     "metadata": {},
     "output_type": "execute_result"
    }
   ],
   "source": [
    "null_count = pd.DataFrame(df.isnull().sum()).rename(columns={0:'count'}).sort_values('count')\n",
    "null_count.loc[null_count['count']>0]"
   ]
  },
  {
   "cell_type": "code",
   "execution_count": 2033,
   "metadata": {},
   "outputs": [],
   "source": [
    "df['pymnt_plan'] = df['pymnt_plan'].map({'n': 0, 'y': 1})"
   ]
  },
  {
   "cell_type": "code",
   "execution_count": 2034,
   "metadata": {},
   "outputs": [],
   "source": [
    "df['hardship_flag'] = df['hardship_flag'].map({'N': 0, 'Y': 1})"
   ]
  },
  {
   "cell_type": "code",
   "execution_count": null,
   "metadata": {},
   "outputs": [],
   "source": []
  },
  {
   "cell_type": "code",
   "execution_count": 2035,
   "metadata": {},
   "outputs": [],
   "source": [
    "# for i in list(df.select_dtypes('object').columns): \n",
    "#     print()\n",
    "#     print(i)\n",
    "#     print(df[i].value_counts())\n",
    "#     print()"
   ]
  },
  {
   "cell_type": "code",
   "execution_count": null,
   "metadata": {},
   "outputs": [],
   "source": []
  },
  {
   "cell_type": "code",
   "execution_count": null,
   "metadata": {},
   "outputs": [],
   "source": []
  },
  {
   "cell_type": "markdown",
   "metadata": {},
   "source": [
    "# Dummy Cols"
   ]
  },
  {
   "cell_type": "code",
   "execution_count": 2036,
   "metadata": {},
   "outputs": [],
   "source": [
    "pd.get_dummies(df['grade'], prefix='grade', drop_first=True)\n",
    "\n",
    "df = pd.concat([df.drop(columns='grade'), pd.get_dummies(df['grade'], \n",
    "                                                         prefix='grade', drop_first=True)], axis=1)"
   ]
  },
  {
   "cell_type": "code",
   "execution_count": 2037,
   "metadata": {},
   "outputs": [],
   "source": [
    "drop_index = list(df.loc[pd.isnull(df['emp_length'])==True].index)\n",
    "df.drop(index=drop_index, inplace=True)\n",
    "\n",
    "df.reset_index(drop=True, inplace=True)\n",
    "\n",
    "df.emp_length = df.emp_length.str.replace('\\D', '').astype(int)\n",
    "\n",
    "pd.get_dummies(df['emp_length'], prefix='emp_length', drop_first=True)\n",
    "\n",
    "df = pd.concat([df.drop(columns='emp_length'), pd.get_dummies(df['emp_length'], \n",
    "                                                              prefix='emp_length', drop_first=True)], axis=1)"
   ]
  },
  {
   "cell_type": "code",
   "execution_count": null,
   "metadata": {},
   "outputs": [],
   "source": []
  },
  {
   "cell_type": "code",
   "execution_count": 2038,
   "metadata": {},
   "outputs": [
    {
     "data": {
      "text/plain": [
       "mortgage    52800\n",
       "rent        43168\n",
       "own         12957\n",
       "Name: home_ownership, dtype: int64"
      ]
     },
     "execution_count": 2038,
     "metadata": {},
     "output_type": "execute_result"
    }
   ],
   "source": [
    "df.home_ownership = df.home_ownership.str.lower()\n",
    "df.home_ownership.value_counts()\n",
    "\n",
    "df.home_ownership = df.home_ownership.map(lambda x: 'other' if (x == 'any') | (x == 'none') else x)\n",
    "\n",
    "drop_index = list(df.loc[df.home_ownership=='other'].index)\n",
    "df.drop(index=drop_index, inplace=True)\n",
    "\n",
    "df.reset_index(drop=True, inplace=True)\n",
    "\n",
    "df.home_ownership.value_counts()"
   ]
  },
  {
   "cell_type": "code",
   "execution_count": 2039,
   "metadata": {},
   "outputs": [],
   "source": [
    "df = pd.concat([df.drop(columns='home_ownership'), pd.get_dummies(df['home_ownership']\n",
    "                                                                 ).drop(columns=['rent'])], axis=1)\n"
   ]
  },
  {
   "cell_type": "code",
   "execution_count": null,
   "metadata": {},
   "outputs": [],
   "source": []
  },
  {
   "cell_type": "code",
   "execution_count": 2040,
   "metadata": {
    "scrolled": true
   },
   "outputs": [
    {
     "data": {
      "text/plain": [
       "current               56725\n",
       "fully_paid            38108\n",
       "charged_off           11262\n",
       "late__31_120_days_     1896\n",
       "in_grace_period         633\n",
       "late__16_30_days_       295\n",
       "default                   6\n",
       "Name: loan_status, dtype: int64"
      ]
     },
     "execution_count": 2040,
     "metadata": {},
     "output_type": "execute_result"
    }
   ],
   "source": [
    "#loan status\n",
    "df.loan_status=df.loan_status.str.lower()\n",
    "\n",
    "df.loan_status=df.loan_status.str.replace('\\W', ' ')\n",
    "\n",
    "df.loan_status = df.loan_status.str.replace(' ', '_')\n",
    "\n",
    "df.loan_status.value_counts()\n"
   ]
  },
  {
   "cell_type": "code",
   "execution_count": 2041,
   "metadata": {},
   "outputs": [],
   "source": [
    "pd.get_dummies(df['loan_status'], prefix='status').drop(columns=['status_current'])\n",
    "\n",
    "\n",
    "df = pd.concat([df.drop(columns='loan_status'), pd.get_dummies(df['loan_status'], \n",
    "                                                               prefix='status').drop(columns=['status_current'])], \n",
    "                                                               axis=1)"
   ]
  },
  {
   "cell_type": "code",
   "execution_count": null,
   "metadata": {},
   "outputs": [],
   "source": []
  },
  {
   "cell_type": "code",
   "execution_count": 2042,
   "metadata": {},
   "outputs": [
    {
     "data": {
      "text/plain": [
       "(108925, 97)"
      ]
     },
     "execution_count": 2042,
     "metadata": {},
     "output_type": "execute_result"
    }
   ],
   "source": [
    "df.shape"
   ]
  },
  {
   "cell_type": "code",
   "execution_count": 2043,
   "metadata": {},
   "outputs": [],
   "source": [
    "#'title'\n",
    "\n",
    "df['title']=df['title'].str.lower().str.replace(' ', '_')\n",
    "\n",
    "df['title'].value_counts()\n",
    "\n",
    "pd.get_dummies(df['title'], prefix='title').drop(columns=['title_other'])\n",
    "\n",
    "df = pd.concat([df.drop(columns='title'), pd.get_dummies(df['title'], \n",
    "                                                         prefix='title').drop(columns=['title_other'])], \n",
    "                                                               axis=1)"
   ]
  },
  {
   "cell_type": "code",
   "execution_count": null,
   "metadata": {},
   "outputs": [],
   "source": []
  },
  {
   "cell_type": "code",
   "execution_count": 2044,
   "metadata": {},
   "outputs": [],
   "source": [
    "# df['zip_code_prefix'] = df.zip_code.map(lambda x: x[:3]).astype(int)\n",
    "\n",
    "# df.drop(columns=['zip_code'], inplace=True)"
   ]
  },
  {
   "cell_type": "code",
   "execution_count": 2045,
   "metadata": {},
   "outputs": [
    {
     "data": {
      "text/plain": [
       "Index([], dtype='object')"
      ]
     },
     "execution_count": 2045,
     "metadata": {},
     "output_type": "execute_result"
    }
   ],
   "source": [
    "df.select_dtypes('object').columns"
   ]
  },
  {
   "cell_type": "code",
   "execution_count": 2046,
   "metadata": {},
   "outputs": [],
   "source": [
    "df.fillna(value=0, inplace=True)"
   ]
  },
  {
   "cell_type": "code",
   "execution_count": null,
   "metadata": {},
   "outputs": [],
   "source": []
  },
  {
   "cell_type": "markdown",
   "metadata": {},
   "source": [
    "# check null and export"
   ]
  },
  {
   "cell_type": "code",
   "execution_count": 2047,
   "metadata": {},
   "outputs": [
    {
     "data": {
      "text/plain": [
       "0"
      ]
     },
     "execution_count": 2047,
     "metadata": {},
     "output_type": "execute_result"
    }
   ],
   "source": [
    "df.isnull().sum().sum()"
   ]
  },
  {
   "cell_type": "code",
   "execution_count": 2048,
   "metadata": {},
   "outputs": [
    {
     "data": {
      "text/html": [
       "<div>\n",
       "<style scoped>\n",
       "    .dataframe tbody tr th:only-of-type {\n",
       "        vertical-align: middle;\n",
       "    }\n",
       "\n",
       "    .dataframe tbody tr th {\n",
       "        vertical-align: top;\n",
       "    }\n",
       "\n",
       "    .dataframe thead th {\n",
       "        text-align: right;\n",
       "    }\n",
       "</style>\n",
       "<table border=\"1\" class=\"dataframe\">\n",
       "  <thead>\n",
       "    <tr style=\"text-align: right;\">\n",
       "      <th></th>\n",
       "      <th>count</th>\n",
       "    </tr>\n",
       "  </thead>\n",
       "  <tbody>\n",
       "  </tbody>\n",
       "</table>\n",
       "</div>"
      ],
      "text/plain": [
       "Empty DataFrame\n",
       "Columns: [count]\n",
       "Index: []"
      ]
     },
     "execution_count": 2048,
     "metadata": {},
     "output_type": "execute_result"
    }
   ],
   "source": [
    "null_count = pd.DataFrame(df.isnull().sum()).rename(columns={0:'count'}).sort_values('count')\n",
    "null_count.loc[null_count['count']>0]"
   ]
  },
  {
   "cell_type": "code",
   "execution_count": 2049,
   "metadata": {},
   "outputs": [
    {
     "data": {
      "text/plain": [
       "(108925, 108)"
      ]
     },
     "execution_count": 2049,
     "metadata": {},
     "output_type": "execute_result"
    }
   ],
   "source": [
    "df.shape"
   ]
  },
  {
   "cell_type": "code",
   "execution_count": null,
   "metadata": {},
   "outputs": [],
   "source": []
  },
  {
   "cell_type": "code",
   "execution_count": 2051,
   "metadata": {},
   "outputs": [],
   "source": [
    "df.to_csv(path_or_buf='clean/clean_2017Q4.csv', index = False)"
   ]
  },
  {
   "cell_type": "code",
   "execution_count": null,
   "metadata": {},
   "outputs": [],
   "source": []
  },
  {
   "cell_type": "code",
   "execution_count": null,
   "metadata": {},
   "outputs": [],
   "source": []
  },
  {
   "cell_type": "code",
   "execution_count": null,
   "metadata": {},
   "outputs": [],
   "source": []
  }
 ],
 "metadata": {
  "kernelspec": {
   "display_name": "Python 3",
   "language": "python",
   "name": "python3"
  },
  "language_info": {
   "codemirror_mode": {
    "name": "ipython",
    "version": 3
   },
   "file_extension": ".py",
   "mimetype": "text/x-python",
   "name": "python",
   "nbconvert_exporter": "python",
   "pygments_lexer": "ipython3",
   "version": "3.7.3"
  }
 },
 "nbformat": 4,
 "nbformat_minor": 2
}
