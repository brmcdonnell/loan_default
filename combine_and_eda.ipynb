{
 "cells": [
  {
   "cell_type": "code",
   "execution_count": 86,
   "metadata": {},
   "outputs": [],
   "source": [
    "import numpy as np \n",
    "import pandas as pd \n",
    "\n",
    "import matplotlib.pyplot as plt\n",
    "%matplotlib inline\n"
   ]
  },
  {
   "cell_type": "code",
   "execution_count": 91,
   "metadata": {},
   "outputs": [],
   "source": [
    "q1_2018 = pd.read_csv('clean_data/clean_2018Q1.csv')\n",
    "q2_2018 = pd.read_csv('clean_data/clean_2018Q2.csv')\n",
    "q3_2018 = pd.read_csv('clean_data/clean_2018Q3.csv')\n",
    "q4_2018 = pd.read_csv('clean_data/clean_2018Q4.csv')"
   ]
  },
  {
   "cell_type": "code",
   "execution_count": 90,
   "metadata": {},
   "outputs": [
    {
     "data": {
      "text/html": [
       "<div>\n",
       "<style scoped>\n",
       "    .dataframe tbody tr th:only-of-type {\n",
       "        vertical-align: middle;\n",
       "    }\n",
       "\n",
       "    .dataframe tbody tr th {\n",
       "        vertical-align: top;\n",
       "    }\n",
       "\n",
       "    .dataframe thead th {\n",
       "        text-align: right;\n",
       "    }\n",
       "</style>\n",
       "<table border=\"1\" class=\"dataframe\">\n",
       "  <thead>\n",
       "    <tr style=\"text-align: right;\">\n",
       "      <th></th>\n",
       "      <th>funded_amnt</th>\n",
       "      <th>int_rate</th>\n",
       "      <th>installment</th>\n",
       "      <th>annual_inc</th>\n",
       "      <th>pymnt_plan</th>\n",
       "      <th>dti</th>\n",
       "      <th>delinq_2yrs</th>\n",
       "      <th>fico_range_low</th>\n",
       "      <th>fico_range_high</th>\n",
       "      <th>inq_last_6mths</th>\n",
       "      <th>...</th>\n",
       "      <th>title_car_financing</th>\n",
       "      <th>title_credit_card_refinancing</th>\n",
       "      <th>title_debt_consolidation</th>\n",
       "      <th>title_green_loan</th>\n",
       "      <th>title_home_buying</th>\n",
       "      <th>title_home_improvement</th>\n",
       "      <th>title_major_purchase</th>\n",
       "      <th>title_medical_expenses</th>\n",
       "      <th>title_moving_and_relocation</th>\n",
       "      <th>title_vacation</th>\n",
       "    </tr>\n",
       "  </thead>\n",
       "  <tbody>\n",
       "    <tr>\n",
       "      <td>0</td>\n",
       "      <td>35000.0</td>\n",
       "      <td>13.58</td>\n",
       "      <td>806.79</td>\n",
       "      <td>160000.0</td>\n",
       "      <td>0.0</td>\n",
       "      <td>7.87</td>\n",
       "      <td>0.0</td>\n",
       "      <td>705.0</td>\n",
       "      <td>709.0</td>\n",
       "      <td>1.0</td>\n",
       "      <td>...</td>\n",
       "      <td>0</td>\n",
       "      <td>0</td>\n",
       "      <td>0</td>\n",
       "      <td>0</td>\n",
       "      <td>0</td>\n",
       "      <td>1</td>\n",
       "      <td>0</td>\n",
       "      <td>0</td>\n",
       "      <td>0</td>\n",
       "      <td>0</td>\n",
       "    </tr>\n",
       "    <tr>\n",
       "      <td>1</td>\n",
       "      <td>7000.0</td>\n",
       "      <td>11.98</td>\n",
       "      <td>232.44</td>\n",
       "      <td>40000.0</td>\n",
       "      <td>0.0</td>\n",
       "      <td>20.25</td>\n",
       "      <td>0.0</td>\n",
       "      <td>695.0</td>\n",
       "      <td>699.0</td>\n",
       "      <td>0.0</td>\n",
       "      <td>...</td>\n",
       "      <td>0</td>\n",
       "      <td>0</td>\n",
       "      <td>0</td>\n",
       "      <td>0</td>\n",
       "      <td>0</td>\n",
       "      <td>1</td>\n",
       "      <td>0</td>\n",
       "      <td>0</td>\n",
       "      <td>0</td>\n",
       "      <td>0</td>\n",
       "    </tr>\n",
       "    <tr>\n",
       "      <td>2</td>\n",
       "      <td>20000.0</td>\n",
       "      <td>9.92</td>\n",
       "      <td>424.16</td>\n",
       "      <td>69000.0</td>\n",
       "      <td>0.0</td>\n",
       "      <td>21.95</td>\n",
       "      <td>0.0</td>\n",
       "      <td>710.0</td>\n",
       "      <td>714.0</td>\n",
       "      <td>1.0</td>\n",
       "      <td>...</td>\n",
       "      <td>0</td>\n",
       "      <td>0</td>\n",
       "      <td>1</td>\n",
       "      <td>0</td>\n",
       "      <td>0</td>\n",
       "      <td>0</td>\n",
       "      <td>0</td>\n",
       "      <td>0</td>\n",
       "      <td>0</td>\n",
       "      <td>0</td>\n",
       "    </tr>\n",
       "    <tr>\n",
       "      <td>3</td>\n",
       "      <td>7000.0</td>\n",
       "      <td>20.39</td>\n",
       "      <td>261.54</td>\n",
       "      <td>41000.0</td>\n",
       "      <td>0.0</td>\n",
       "      <td>30.15</td>\n",
       "      <td>0.0</td>\n",
       "      <td>680.0</td>\n",
       "      <td>684.0</td>\n",
       "      <td>1.0</td>\n",
       "      <td>...</td>\n",
       "      <td>0</td>\n",
       "      <td>0</td>\n",
       "      <td>0</td>\n",
       "      <td>0</td>\n",
       "      <td>0</td>\n",
       "      <td>0</td>\n",
       "      <td>0</td>\n",
       "      <td>0</td>\n",
       "      <td>0</td>\n",
       "      <td>0</td>\n",
       "    </tr>\n",
       "    <tr>\n",
       "      <td>4</td>\n",
       "      <td>13400.0</td>\n",
       "      <td>16.01</td>\n",
       "      <td>325.94</td>\n",
       "      <td>94000.0</td>\n",
       "      <td>0.0</td>\n",
       "      <td>14.26</td>\n",
       "      <td>0.0</td>\n",
       "      <td>740.0</td>\n",
       "      <td>744.0</td>\n",
       "      <td>1.0</td>\n",
       "      <td>...</td>\n",
       "      <td>0</td>\n",
       "      <td>0</td>\n",
       "      <td>1</td>\n",
       "      <td>0</td>\n",
       "      <td>0</td>\n",
       "      <td>0</td>\n",
       "      <td>0</td>\n",
       "      <td>0</td>\n",
       "      <td>0</td>\n",
       "      <td>0</td>\n",
       "    </tr>\n",
       "  </tbody>\n",
       "</table>\n",
       "<p>5 rows × 107 columns</p>\n",
       "</div>"
      ],
      "text/plain": [
       "   funded_amnt  int_rate  installment  annual_inc  pymnt_plan    dti  \\\n",
       "0      35000.0     13.58       806.79    160000.0         0.0   7.87   \n",
       "1       7000.0     11.98       232.44     40000.0         0.0  20.25   \n",
       "2      20000.0      9.92       424.16     69000.0         0.0  21.95   \n",
       "3       7000.0     20.39       261.54     41000.0         0.0  30.15   \n",
       "4      13400.0     16.01       325.94     94000.0         0.0  14.26   \n",
       "\n",
       "   delinq_2yrs  fico_range_low  fico_range_high  inq_last_6mths  ...  \\\n",
       "0          0.0           705.0            709.0             1.0  ...   \n",
       "1          0.0           695.0            699.0             0.0  ...   \n",
       "2          0.0           710.0            714.0             1.0  ...   \n",
       "3          0.0           680.0            684.0             1.0  ...   \n",
       "4          0.0           740.0            744.0             1.0  ...   \n",
       "\n",
       "   title_car_financing  title_credit_card_refinancing  \\\n",
       "0                    0                              0   \n",
       "1                    0                              0   \n",
       "2                    0                              0   \n",
       "3                    0                              0   \n",
       "4                    0                              0   \n",
       "\n",
       "   title_debt_consolidation  title_green_loan  title_home_buying  \\\n",
       "0                         0                 0                  0   \n",
       "1                         0                 0                  0   \n",
       "2                         1                 0                  0   \n",
       "3                         0                 0                  0   \n",
       "4                         1                 0                  0   \n",
       "\n",
       "   title_home_improvement  title_major_purchase  title_medical_expenses  \\\n",
       "0                       1                     0                       0   \n",
       "1                       1                     0                       0   \n",
       "2                       0                     0                       0   \n",
       "3                       0                     0                       0   \n",
       "4                       0                     0                       0   \n",
       "\n",
       "   title_moving_and_relocation  title_vacation  \n",
       "0                            0               0  \n",
       "1                            0               0  \n",
       "2                            0               0  \n",
       "3                            0               0  \n",
       "4                            0               0  \n",
       "\n",
       "[5 rows x 107 columns]"
      ]
     },
     "execution_count": 90,
     "metadata": {},
     "output_type": "execute_result"
    }
   ],
   "source": [
    "q1_2018.head()"
   ]
  },
  {
   "cell_type": "code",
   "execution_count": 92,
   "metadata": {},
   "outputs": [],
   "source": [
    "ls_df = [q1_2018,q2_2018,q3_2018,q4_2018]"
   ]
  },
  {
   "cell_type": "code",
   "execution_count": 93,
   "metadata": {},
   "outputs": [
    {
     "name": "stdout",
     "output_type": "stream",
     "text": [
      "(98434, 107)\n",
      "(120298, 107)\n",
      "(117720, 107)\n",
      "(116434, 107)\n"
     ]
    }
   ],
   "source": [
    "for df in ls_df: \n",
    "    print(df.shape)"
   ]
  },
  {
   "cell_type": "code",
   "execution_count": 100,
   "metadata": {},
   "outputs": [],
   "source": [
    "for i in range(len(q1_2018.columns)):\n",
    "    if list(q1_2018.columns)[i] != list(q4_2018.columns)[i]:\n",
    "        print(list(q1_2018.columns)[i], list(q4_2018.columns)[i])"
   ]
  },
  {
   "cell_type": "code",
   "execution_count": 102,
   "metadata": {},
   "outputs": [],
   "source": [
    "df = pd.concat(ls_df, ignore_index=True)"
   ]
  },
  {
   "cell_type": "code",
   "execution_count": 103,
   "metadata": {},
   "outputs": [
    {
     "data": {
      "text/html": [
       "<div>\n",
       "<style scoped>\n",
       "    .dataframe tbody tr th:only-of-type {\n",
       "        vertical-align: middle;\n",
       "    }\n",
       "\n",
       "    .dataframe tbody tr th {\n",
       "        vertical-align: top;\n",
       "    }\n",
       "\n",
       "    .dataframe thead th {\n",
       "        text-align: right;\n",
       "    }\n",
       "</style>\n",
       "<table border=\"1\" class=\"dataframe\">\n",
       "  <thead>\n",
       "    <tr style=\"text-align: right;\">\n",
       "      <th></th>\n",
       "      <th>funded_amnt</th>\n",
       "      <th>int_rate</th>\n",
       "      <th>installment</th>\n",
       "      <th>annual_inc</th>\n",
       "      <th>pymnt_plan</th>\n",
       "      <th>dti</th>\n",
       "      <th>delinq_2yrs</th>\n",
       "      <th>fico_range_low</th>\n",
       "      <th>fico_range_high</th>\n",
       "      <th>inq_last_6mths</th>\n",
       "      <th>...</th>\n",
       "      <th>title_car_financing</th>\n",
       "      <th>title_credit_card_refinancing</th>\n",
       "      <th>title_debt_consolidation</th>\n",
       "      <th>title_green_loan</th>\n",
       "      <th>title_home_buying</th>\n",
       "      <th>title_home_improvement</th>\n",
       "      <th>title_major_purchase</th>\n",
       "      <th>title_medical_expenses</th>\n",
       "      <th>title_moving_and_relocation</th>\n",
       "      <th>title_vacation</th>\n",
       "    </tr>\n",
       "  </thead>\n",
       "  <tbody>\n",
       "    <tr>\n",
       "      <td>0</td>\n",
       "      <td>35000.0</td>\n",
       "      <td>13.58</td>\n",
       "      <td>806.79</td>\n",
       "      <td>160000.0</td>\n",
       "      <td>0.0</td>\n",
       "      <td>7.87</td>\n",
       "      <td>0.0</td>\n",
       "      <td>705.0</td>\n",
       "      <td>709.0</td>\n",
       "      <td>1.0</td>\n",
       "      <td>...</td>\n",
       "      <td>0</td>\n",
       "      <td>0</td>\n",
       "      <td>0</td>\n",
       "      <td>0</td>\n",
       "      <td>0</td>\n",
       "      <td>1</td>\n",
       "      <td>0</td>\n",
       "      <td>0</td>\n",
       "      <td>0</td>\n",
       "      <td>0</td>\n",
       "    </tr>\n",
       "    <tr>\n",
       "      <td>1</td>\n",
       "      <td>7000.0</td>\n",
       "      <td>11.98</td>\n",
       "      <td>232.44</td>\n",
       "      <td>40000.0</td>\n",
       "      <td>0.0</td>\n",
       "      <td>20.25</td>\n",
       "      <td>0.0</td>\n",
       "      <td>695.0</td>\n",
       "      <td>699.0</td>\n",
       "      <td>0.0</td>\n",
       "      <td>...</td>\n",
       "      <td>0</td>\n",
       "      <td>0</td>\n",
       "      <td>0</td>\n",
       "      <td>0</td>\n",
       "      <td>0</td>\n",
       "      <td>1</td>\n",
       "      <td>0</td>\n",
       "      <td>0</td>\n",
       "      <td>0</td>\n",
       "      <td>0</td>\n",
       "    </tr>\n",
       "    <tr>\n",
       "      <td>2</td>\n",
       "      <td>20000.0</td>\n",
       "      <td>9.92</td>\n",
       "      <td>424.16</td>\n",
       "      <td>69000.0</td>\n",
       "      <td>0.0</td>\n",
       "      <td>21.95</td>\n",
       "      <td>0.0</td>\n",
       "      <td>710.0</td>\n",
       "      <td>714.0</td>\n",
       "      <td>1.0</td>\n",
       "      <td>...</td>\n",
       "      <td>0</td>\n",
       "      <td>0</td>\n",
       "      <td>1</td>\n",
       "      <td>0</td>\n",
       "      <td>0</td>\n",
       "      <td>0</td>\n",
       "      <td>0</td>\n",
       "      <td>0</td>\n",
       "      <td>0</td>\n",
       "      <td>0</td>\n",
       "    </tr>\n",
       "    <tr>\n",
       "      <td>3</td>\n",
       "      <td>7000.0</td>\n",
       "      <td>20.39</td>\n",
       "      <td>261.54</td>\n",
       "      <td>41000.0</td>\n",
       "      <td>0.0</td>\n",
       "      <td>30.15</td>\n",
       "      <td>0.0</td>\n",
       "      <td>680.0</td>\n",
       "      <td>684.0</td>\n",
       "      <td>1.0</td>\n",
       "      <td>...</td>\n",
       "      <td>0</td>\n",
       "      <td>0</td>\n",
       "      <td>0</td>\n",
       "      <td>0</td>\n",
       "      <td>0</td>\n",
       "      <td>0</td>\n",
       "      <td>0</td>\n",
       "      <td>0</td>\n",
       "      <td>0</td>\n",
       "      <td>0</td>\n",
       "    </tr>\n",
       "    <tr>\n",
       "      <td>4</td>\n",
       "      <td>13400.0</td>\n",
       "      <td>16.01</td>\n",
       "      <td>325.94</td>\n",
       "      <td>94000.0</td>\n",
       "      <td>0.0</td>\n",
       "      <td>14.26</td>\n",
       "      <td>0.0</td>\n",
       "      <td>740.0</td>\n",
       "      <td>744.0</td>\n",
       "      <td>1.0</td>\n",
       "      <td>...</td>\n",
       "      <td>0</td>\n",
       "      <td>0</td>\n",
       "      <td>1</td>\n",
       "      <td>0</td>\n",
       "      <td>0</td>\n",
       "      <td>0</td>\n",
       "      <td>0</td>\n",
       "      <td>0</td>\n",
       "      <td>0</td>\n",
       "      <td>0</td>\n",
       "    </tr>\n",
       "  </tbody>\n",
       "</table>\n",
       "<p>5 rows × 107 columns</p>\n",
       "</div>"
      ],
      "text/plain": [
       "   funded_amnt  int_rate  installment  annual_inc  pymnt_plan    dti  \\\n",
       "0      35000.0     13.58       806.79    160000.0         0.0   7.87   \n",
       "1       7000.0     11.98       232.44     40000.0         0.0  20.25   \n",
       "2      20000.0      9.92       424.16     69000.0         0.0  21.95   \n",
       "3       7000.0     20.39       261.54     41000.0         0.0  30.15   \n",
       "4      13400.0     16.01       325.94     94000.0         0.0  14.26   \n",
       "\n",
       "   delinq_2yrs  fico_range_low  fico_range_high  inq_last_6mths  ...  \\\n",
       "0          0.0           705.0            709.0             1.0  ...   \n",
       "1          0.0           695.0            699.0             0.0  ...   \n",
       "2          0.0           710.0            714.0             1.0  ...   \n",
       "3          0.0           680.0            684.0             1.0  ...   \n",
       "4          0.0           740.0            744.0             1.0  ...   \n",
       "\n",
       "   title_car_financing  title_credit_card_refinancing  \\\n",
       "0                    0                              0   \n",
       "1                    0                              0   \n",
       "2                    0                              0   \n",
       "3                    0                              0   \n",
       "4                    0                              0   \n",
       "\n",
       "   title_debt_consolidation  title_green_loan  title_home_buying  \\\n",
       "0                         0                 0                  0   \n",
       "1                         0                 0                  0   \n",
       "2                         1                 0                  0   \n",
       "3                         0                 0                  0   \n",
       "4                         1                 0                  0   \n",
       "\n",
       "   title_home_improvement  title_major_purchase  title_medical_expenses  \\\n",
       "0                       1                     0                       0   \n",
       "1                       1                     0                       0   \n",
       "2                       0                     0                       0   \n",
       "3                       0                     0                       0   \n",
       "4                       0                     0                       0   \n",
       "\n",
       "   title_moving_and_relocation  title_vacation  \n",
       "0                            0               0  \n",
       "1                            0               0  \n",
       "2                            0               0  \n",
       "3                            0               0  \n",
       "4                            0               0  \n",
       "\n",
       "[5 rows x 107 columns]"
      ]
     },
     "execution_count": 103,
     "metadata": {},
     "output_type": "execute_result"
    }
   ],
   "source": [
    "df.head()"
   ]
  },
  {
   "cell_type": "code",
   "execution_count": 105,
   "metadata": {},
   "outputs": [],
   "source": [
    "df['year'] = 2018"
   ]
  },
  {
   "cell_type": "code",
   "execution_count": 107,
   "metadata": {},
   "outputs": [
    {
     "data": {
      "text/plain": [
       "(452886, 108)"
      ]
     },
     "execution_count": 107,
     "metadata": {},
     "output_type": "execute_result"
    }
   ],
   "source": [
    "df.shape"
   ]
  },
  {
   "cell_type": "code",
   "execution_count": null,
   "metadata": {},
   "outputs": [],
   "source": []
  },
  {
   "cell_type": "code",
   "execution_count": null,
   "metadata": {},
   "outputs": [],
   "source": []
  },
  {
   "cell_type": "code",
   "execution_count": 131,
   "metadata": {},
   "outputs": [],
   "source": [
    "list(df.columns);"
   ]
  },
  {
   "cell_type": "code",
   "execution_count": 113,
   "metadata": {},
   "outputs": [],
   "source": [
    "df['fico_avg'] = (df['fico_range_low'] + df['fico_range_high']) / 2"
   ]
  },
  {
   "cell_type": "code",
   "execution_count": 114,
   "metadata": {},
   "outputs": [],
   "source": [
    "df.drop(columns=['fico_range_low','fico_range_high'], inplace=True)"
   ]
  },
  {
   "cell_type": "code",
   "execution_count": null,
   "metadata": {},
   "outputs": [],
   "source": []
  },
  {
   "cell_type": "code",
   "execution_count": 163,
   "metadata": {},
   "outputs": [],
   "source": [
    "df.to_csv(path_or_buf='year/year_2018.csv', index = False)"
   ]
  },
  {
   "cell_type": "code",
   "execution_count": null,
   "metadata": {},
   "outputs": [],
   "source": []
  },
  {
   "cell_type": "code",
   "execution_count": null,
   "metadata": {},
   "outputs": [],
   "source": []
  },
  {
   "cell_type": "code",
   "execution_count": null,
   "metadata": {},
   "outputs": [],
   "source": []
  },
  {
   "cell_type": "code",
   "execution_count": null,
   "metadata": {},
   "outputs": [],
   "source": [
    "default = df.loc[df['status_default']==1]\n",
    "charged_off = df.loc[df['status_charged_off']==1]\n",
    "fully_paid = df.loc[df['status_fully_paid']==1]\n",
    "in_grace_period = df.loc[df['status_in_grace_period']==1]\n",
    "late_16_30_days = df.loc[df['status_late__16_30_days_']==1]\n",
    "late_31_120_days = df.loc[df['status_late__31_120_days_']==1]"
   ]
  },
  {
   "cell_type": "code",
   "execution_count": null,
   "metadata": {},
   "outputs": [],
   "source": []
  },
  {
   "cell_type": "code",
   "execution_count": null,
   "metadata": {},
   "outputs": [],
   "source": []
  },
  {
   "cell_type": "code",
   "execution_count": null,
   "metadata": {},
   "outputs": [],
   "source": []
  },
  {
   "cell_type": "code",
   "execution_count": 120,
   "metadata": {},
   "outputs": [
    {
     "data": {
      "text/plain": [
       "(15, 107)"
      ]
     },
     "execution_count": 120,
     "metadata": {},
     "output_type": "execute_result"
    }
   ],
   "source": [
    "default.shape"
   ]
  },
  {
   "cell_type": "code",
   "execution_count": 161,
   "metadata": {},
   "outputs": [
    {
     "data": {
      "image/png": "[encoded data removed]",
      "text/plain": [
       "<Figure size 1440x576 with 1 Axes>"
      ]
     },
     "metadata": {
      "needs_background": "light"
     },
     "output_type": "display_data"
    }
   ],
   "source": [
    "plt.figure(figsize=(20,8))\n",
    "plt.hist(default['fico_avg'], bins=15, color='red')\n",
    "plt.hist(charged_off['fico_avg'][:100], bins=15, alpha=0.3)\n",
    "# plt.hist(fully_paid['fico_avg'][:15], bins=15, alpha=0.3, color='cyan')\n",
    "plt.hist(in_grace_period['fico_avg'][:100], bins=15, alpha=0.3, color='powderblue')\n",
    "plt.hist(late_16_30_days['fico_avg'][:100], bins=15, alpha=0.3, color='skyblue')\n",
    "plt.hist(late_31_120_days['fico_avg'][:100], bins=15, alpha=0.3, color='blue');"
   ]
  },
  {
   "cell_type": "code",
   "execution_count": 142,
   "metadata": {},
   "outputs": [
    {
     "data": {
      "text/plain": [
       "683.0"
      ]
     },
     "execution_count": 142,
     "metadata": {},
     "output_type": "execute_result"
    }
   ],
   "source": [
    "np.mean(default['fico_avg'])\n",
    "\n",
    "np.mean()"
   ]
  },
  {
   "cell_type": "code",
   "execution_count": 151,
   "metadata": {},
   "outputs": [
    {
     "data": {
      "image/png": "[encoded data removed]",
      "text/plain": [
       "<Figure size 864x576 with 1 Axes>"
      ]
     },
     "metadata": {
      "needs_background": "light"
     },
     "output_type": "display_data"
    }
   ],
   "source": [
    "np.mean(default['fico_avg'])\n",
    "np.mean(charged_off['fico_avg'])\n",
    "np.mean(fully_paid['fico_avg'])\n",
    "np.mean(in_grace_period['fico_avg'])\n",
    "np.mean(late_16_30_days['fico_avg'])\n",
    "np.mean(late_31_120_days['fico_avg'])\n",
    "\n",
    "\n",
    "objects = ('Default', 'Charged Off', 'Fully Paid', 'In Grace Period', 'Late 16-30 Days', 'Late 31-120 Days')\n",
    "y_pos = np.arange(len(objects))\n",
    "performance = [np.mean(default['fico_avg']),\n",
    "               np.mean(charged_off['fico_avg']),\n",
    "np.mean(fully_paid['fico_avg']),\n",
    "np.mean(in_grace_period['fico_avg']),\n",
    "np.mean(late_16_30_days['fico_avg']),\n",
    "np.mean(late_31_120_days['fico_avg'])]\n",
    "\n",
    "\n",
    "plt.figure(figsize=(12,8))\n",
    "plt.barh(y_pos, performance, align='center', color='orange', alpha=0.8)\n",
    "plt.yticks(y_pos, objects, fontsize=15)\n",
    "plt.xlabel('Fico Score', fontsize=20)\n",
    "plt.title('Average Fico Score by Loan Status', fontsize=30)\n",
    "\n",
    "plt.show()"
   ]
  },
  {
   "cell_type": "code",
   "execution_count": 152,
   "metadata": {},
   "outputs": [
    {
     "data": {
      "text/plain": [
       "0          7.87\n",
       "1         20.25\n",
       "2         21.95\n",
       "3         30.15\n",
       "4         14.26\n",
       "          ...  \n",
       "452881    16.85\n",
       "452882    20.95\n",
       "452883    13.16\n",
       "452884    11.30\n",
       "452885    17.72\n",
       "Name: dti, Length: 452886, dtype: float64"
      ]
     },
     "execution_count": 152,
     "metadata": {},
     "output_type": "execute_result"
    }
   ],
   "source": [
    "from imblearn.over_sampling import SMOTE\n",
    "import smote\n",
    "import rus"
   ]
  },
  {
   "cell_type": "code",
   "execution_count": null,
   "metadata": {},
   "outputs": [],
   "source": []
  }
 ],
 "metadata": {
  "kernelspec": {
   "display_name": "Python 3",
   "language": "python",
   "name": "python3"
  },
  "language_info": {
   "codemirror_mode": {
    "name": "ipython",
    "version": 3
   },
   "file_extension": ".py",
   "mimetype": "text/x-python",
   "name": "python",
   "nbconvert_exporter": "python",
   "pygments_lexer": "ipython3",
   "version": "3.7.3"
  }
 },
 "nbformat": 4,
 "nbformat_minor": 2
}
